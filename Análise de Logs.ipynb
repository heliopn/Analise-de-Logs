{
 "cells": [
  {
   "cell_type": "markdown",
   "metadata": {},
   "source": [
    "## Preparando o ambiente"
   ]
  },
  {
   "cell_type": "markdown",
   "metadata": {},
   "source": [
    "Instalando as bibliotecas necessárias"
   ]
  },
  {
   "cell_type": "code",
   "execution_count": 1,
   "metadata": {},
   "outputs": [
    {
     "name": "stdout",
     "output_type": "stream",
     "text": [
      "Defaulting to user installation because normal site-packages is not writeable\n",
      "Requirement already satisfied: pandas in /home/iskandar/.local/lib/python3.8/site-packages (1.0.5)\n",
      "Requirement already satisfied: python-dateutil>=2.6.1 in /usr/lib/python3.8/site-packages (from pandas) (2.8.1)\n",
      "Requirement already satisfied: pytz>=2017.2 in /usr/lib/python3.8/site-packages (from pandas) (2020.1)\n",
      "Requirement already satisfied: numpy>=1.13.3 in /home/iskandar/.local/lib/python3.8/site-packages (from pandas) (1.18.4)\n",
      "Requirement already satisfied: six>=1.5 in /usr/lib/python3.8/site-packages (from python-dateutil>=2.6.1->pandas) (1.15.0)\n",
      "Defaulting to user installation because normal site-packages is not writeable\n",
      "Requirement already satisfied: mpmath in /home/iskandar/.local/lib/python3.8/site-packages (1.1.0)\n",
      "Defaulting to user installation because normal site-packages is not writeable\n",
      "Requirement already satisfied: pandoc in /home/iskandar/.local/lib/python3.8/site-packages (1.0.2)\n",
      "Requirement already satisfied: ply in /usr/lib/python3.8/site-packages (from pandoc) (3.11)\n"
     ]
    }
   ],
   "source": [
    "!pip install pandas\n",
    "!pip install mpmath\n",
    "!pip install pandoc"
   ]
  },
  {
   "cell_type": "markdown",
   "metadata": {},
   "source": [
    "Importando bibliotecas necessárias"
   ]
  },
  {
   "cell_type": "code",
   "execution_count": 2,
   "metadata": {},
   "outputs": [],
   "source": [
    "import math\n",
    "import os.path\n",
    "import pandas as pd\n",
    "import json\n",
    "from string import *\n",
    "from random import shuffle\n",
    "import sys\n",
    "from mpmath import *\n",
    "import matplotlib.pyplot as plt"
   ]
  },
  {
   "cell_type": "markdown",
   "metadata": {},
   "source": [
    "## Importando Planilha"
   ]
  },
  {
   "cell_type": "code",
   "execution_count": 3,
   "metadata": {},
   "outputs": [],
   "source": [
    "df = pd.read_csv(\"USER_LOGS.csv\")\n",
    "UA = df[\"user_agent\"]"
   ]
  },
  {
   "cell_type": "code",
   "execution_count": 4,
   "metadata": {},
   "outputs": [],
   "source": [
    "XD = []\n",
    "for i in UA:\n",
    "    XD.append(i)"
   ]
  },
  {
   "cell_type": "markdown",
   "metadata": {},
   "source": [
    "## Função para retirar caracteres especiais"
   ]
  },
  {
   "cell_type": "code",
   "execution_count": 5,
   "metadata": {},
   "outputs": [],
   "source": [
    "def limpo(LR):\n",
    "    i=0\n",
    "    while (i < len (LR)):\n",
    "        LR[i]=LR[i].replace(\"_\",\" \")\n",
    "        LR[i]=LR[i].replace(\"'\",\" \")\n",
    "        LR[i]=LR[i].replace(\"?\",\" \")\n",
    "        LR[i]=LR[i].replace(\"$\",\" \")\n",
    "        LR[i]=LR[i].replace(\"*\",\" \")\n",
    "        LR[i]=LR[i].replace(\"%\",\" \")\n",
    "        LR[i]=LR[i].replace(\"-\",\" \")\n",
    "        LR[i]=LR[i].replace(\"<\",\" \")\n",
    "        LR[i]=LR[i].replace(\">\",\" \")\n",
    "        LR[i]=LR[i].replace(\"'\",\" \")\n",
    "        LR[i]=LR[i].replace('\"',\" \")\n",
    "        LR[i]=LR[i].replace(\"!\",\" \")\n",
    "        LR[i]=LR[i].replace(\".\",\" \")\n",
    "        LR[i]=LR[i].replace(\",\",\" \")\n",
    "        LR[i]=LR[i].replace(\"|\",\" \")\n",
    "        LR[i]=LR[i].replace(\":\",\" \")\n",
    "        LR[i]=LR[i].replace(\"&\",\" \")\n",
    "        LR[i]=LR[i].replace(\"(\",\" \")\n",
    "        LR[i]=LR[i].replace(\")\",\" \")\n",
    "        LR[i]=LR[i].replace(\"+\",\" \")\n",
    "        LR[i]=LR[i].replace(\"#\",\" \")\n",
    "        LR[i]=LR[i].replace(\"^\",\" \")\n",
    "        LR[i]=LR[i].replace(\";\",\" \")\n",
    "        i+=1\n",
    "    return LR"
   ]
  },
  {
   "cell_type": "code",
   "execution_count": 6,
   "metadata": {},
   "outputs": [],
   "source": [
    "LXD=limpo(XD)"
   ]
  },
  {
   "cell_type": "markdown",
   "metadata": {},
   "source": [
    "## Separando Sistemas Operacionais Mobile"
   ]
  },
  {
   "cell_type": "code",
   "execution_count": 7,
   "metadata": {},
   "outputs": [],
   "source": [
    "# MODEL = {'ANDROID':33,'IPHONE':37}\n",
    "LXD_MOBILE = []\n",
    "MOBILE_MODELS = {}\n",
    "for log in LXD:\n",
    "    if \"ANDROID\" in log or \"IPHONE\" in log:\n",
    "        LXD_MOBILE.append(log)\n",
    "        if \"ANDROID\" in log:\n",
    "            if log[31:58] not in MOBILE_MODELS.keys():\n",
    "                MOBILE_MODELS[log[31:58]]=1\n",
    "            else:\n",
    "                MOBILE_MODELS[log[31:58]]=MOBILE_MODELS[log[31:58]]+1\n",
    "        if \"IPHONE\" in log:\n",
    "            if log[31:58] not in MOBILE_MODELS.keys():\n",
    "                MOBILE_MODELS[log[31:58]]=1\n",
    "            else:\n",
    "                MOBILE_MODELS[log[31:58]]=MOBILE_MODELS[log[31:58]]+1\n"
   ]
  },
  {
   "cell_type": "markdown",
   "metadata": {},
   "source": [
    "## Separando Versões do ANDROID"
   ]
  },
  {
   "cell_type": "code",
   "execution_count": 8,
   "metadata": {},
   "outputs": [],
   "source": [
    "# MODEL = {'ANDROID':33,'IPHONE':37}\n",
    "LXD_ANDROID_VERSIONS = []\n",
    "ANDROID_VERSION = {}\n",
    "for log in LXD:\n",
    "    if \"ANDROID\" in log or \"IPHONE\" in log:\n",
    "        LXD_ANDROID_VERSIONS.append(log)\n",
    "        if \"ANDROID\" in log:\n",
    "            if log[20:33] not in ANDROID_VERSION.keys():\n",
    "                ANDROID_VERSION[log[20:33]]=1\n",
    "            else:\n",
    "                ANDROID_VERSION[log[20:33]]=ANDROID_VERSION[log[20:33]]+1\n"
   ]
  },
  {
   "cell_type": "markdown",
   "metadata": {},
   "source": [
    "## Funções para limpar as versões ANDROID"
   ]
  },
  {
   "cell_type": "code",
   "execution_count": 9,
   "metadata": {},
   "outputs": [],
   "source": [
    "def CLEAR_DROID(DROID_MODELS):\n",
    "    NEW_DROID_MODELS = {}\n",
    "    for i in DROID_MODELS:\n",
    "        if \"ANDROID\" in i:\n",
    "            NEW_DROID_MODELS[i]=DROID_MODELS[i]\n",
    "        else:\n",
    "            continue\n",
    "    return NEW_DROID_MODELS"
   ]
  },
  {
   "cell_type": "code",
   "execution_count": 10,
   "metadata": {},
   "outputs": [],
   "source": [
    "def CUT_DROID(DROID_MODELS):\n",
    "    NEW_DROID_MODELS = {}\n",
    "    for i in DROID_MODELS:\n",
    "        OLD_i=i\n",
    "        if i[-1] == ' ' or i[-1].isalpha():\n",
    "            i = i[:-1]\n",
    "            NEW_DROID_MODELS[i]=DROID_MODELS[OLD_i]\n",
    "        elif i[1] == ' ' or i[0] == ' ':\n",
    "            i = i[1:]\n",
    "            NEW_DROID_MODELS[i]=DROID_MODELS[OLD_i]\n",
    "        else:\n",
    "            NEW_DROID_MODELS[i]=DROID_MODELS[OLD_i]\n",
    "    return NEW_DROID_MODELS"
   ]
  },
  {
   "cell_type": "code",
   "execution_count": 11,
   "metadata": {},
   "outputs": [],
   "source": [
    "ANV = CLEAR_DROID(ANDROID_VERSION)\n",
    "ANV = CUT_DROID(ANV)\n",
    "ANV = CUT_DROID(ANV)\n",
    "ANV = CUT_DROID(ANV)\n",
    "ANV = CUT_DROID(ANV)"
   ]
  },
  {
   "cell_type": "markdown",
   "metadata": {},
   "source": [
    "## Função que corta espaços desnecessários"
   ]
  },
  {
   "cell_type": "code",
   "execution_count": 12,
   "metadata": {},
   "outputs": [],
   "source": [
    "def CUT(MOBILE_MODELS_NEW):\n",
    "    MOBILE_MODELS_NEW2 = {}\n",
    "    for i in MOBILE_MODELS_NEW:\n",
    "        i_OLD=i\n",
    "        if 'BUI' in i:\n",
    "            BUI_RM = 0\n",
    "            for j in range(len(i)):\n",
    "                if i[j]==\"B\" and i[j+1]==\"U\" and i[j+2]==\"I\":\n",
    "                    BUI_RM = j\n",
    "                    break\n",
    "            MOBILE_MODELS_NEW2[i[:j]]=MOBILE_MODELS_NEW[i_OLD]\n",
    "        elif i[0]==' ' or i[1]==' ':\n",
    "            i = i[1:]\n",
    "            MOBILE_MODELS_NEW2[i]=MOBILE_MODELS_NEW[i_OLD]\n",
    "        elif i[-1]==' ':\n",
    "            i = i[:-1]\n",
    "            MOBILE_MODELS_NEW2[i]=MOBILE_MODELS_NEW[i_OLD]\n",
    "        else:\n",
    "            MOBILE_MODELS_NEW2[i]=MOBILE_MODELS_NEW[i_OLD]\n",
    "    return MOBILE_MODELS_NEW2"
   ]
  },
  {
   "cell_type": "markdown",
   "metadata": {},
   "source": [
    "## Função junta os Iphones em um único item"
   ]
  },
  {
   "cell_type": "code",
   "execution_count": 13,
   "metadata": {},
   "outputs": [],
   "source": [
    "def IPHONE(dic):\n",
    "    dic2 = {}\n",
    "    count = 0\n",
    "    for i in dic:\n",
    "        if not \"MAC\" in i:\n",
    "            dic2[i]=dic[i]\n",
    "        else:\n",
    "            count = count + 1\n",
    "    dic2['IPHONE']=count\n",
    "    return dic2"
   ]
  },
  {
   "cell_type": "markdown",
   "metadata": {},
   "source": [
    "## Função que limpa o nome dos Modelos"
   ]
  },
  {
   "cell_type": "code",
   "execution_count": 14,
   "metadata": {},
   "outputs": [],
   "source": [
    "def CLEAR_MODELS(MOBILE_MODELS):\n",
    "    MOBILE_MODELS_NEW = {}\n",
    "    for i in MOBILE_MODELS:\n",
    "        i_OLD=i\n",
    "        if i[0]==' ' or i[1]==' ':\n",
    "            i = i[2:]\n",
    "        if 'APP' in i:\n",
    "            APP_RM = 0\n",
    "            for j in range(len(i)):\n",
    "                if i[j]==\"A\" and i[j+1]==\"P\" and i[j+2]==\"P\":\n",
    "                    APP_RM = j\n",
    "                    break\n",
    "            MOBILE_MODELS_NEW[i[:j]]=MOBILE_MODELS[i_OLD]\n",
    "        elif 'BUI' in i:\n",
    "            BUI_RM = 0\n",
    "            for j in range(len(i)):\n",
    "                if i[j]==\"B\" and i[j+1]==\"U\" and i[j+2]==\"I\":\n",
    "                    BUI_RM = j\n",
    "                    break\n",
    "            MOBILE_MODELS_NEW[i[:j]]=MOBILE_MODELS[i_OLD]\n",
    "        elif 'GECKO' in i:\n",
    "            continue\n",
    "        else:\n",
    "            MOBILE_MODELS_NEW[i]=MOBILE_MODELS[i_OLD]\n",
    "    return MOBILE_MODELS_NEW"
   ]
  },
  {
   "cell_type": "markdown",
   "metadata": {},
   "source": [
    "## Chamando as Funções"
   ]
  },
  {
   "cell_type": "code",
   "execution_count": 15,
   "metadata": {},
   "outputs": [],
   "source": [
    "MMN = CLEAR_MODELS(MOBILE_MODELS)\n",
    "MMN = CUT(MMN)\n",
    "MMN = CUT(MMN)\n",
    "MMN = CUT(MMN)\n",
    "MMN = IPHONE(MMN)"
   ]
  },
  {
   "cell_type": "markdown",
   "metadata": {},
   "source": [
    "## Convertendo de Dicionário para Data Frame e isolando os casos mais relevantes"
   ]
  },
  {
   "cell_type": "code",
   "execution_count": 16,
   "metadata": {},
   "outputs": [],
   "source": [
    "df_DROID = pd.DataFrame(list(ANV.items()),columns = ['Versions','quant'])\n",
    "df_DROID = df_DROID.sort_values('quant',ascending=False)\n",
    "pd.set_option('max_rows', None)\n",
    "df_DROID = df_DROID.loc[:8]\n",
    "# top 5 = 5\n",
    "# top 10 = 8\n",
    "# top 20 = 17"
   ]
  },
  {
   "cell_type": "code",
   "execution_count": 17,
   "metadata": {},
   "outputs": [],
   "source": [
    "df = pd.DataFrame(list(MMN.items()),columns = ['Models','quant'])\n",
    "df = df.sort_values('quant',ascending=False)\n",
    "pd.set_option('max_rows', None)\n",
    "df = df.loc[:100]\n",
    "# top 5 = 127\n",
    "# top 10 = 100\n",
    "# top 20 = 153"
   ]
  },
  {
   "cell_type": "markdown",
   "metadata": {},
   "source": [
    "## Criando os Gráficos"
   ]
  },
  {
   "cell_type": "code",
   "execution_count": 18,
   "metadata": {},
   "outputs": [
    {
     "data": {
      "image/png": "[encoded data removed]",
      "text/plain": [
       "<Figure size 432x288 with 1 Axes>"
      ]
     },
     "metadata": {},
     "output_type": "display_data"
    }
   ],
   "source": [
    "plote = plt.pie(df_DROID['quant'], labels=df_DROID['Versions'],  autopct='%1.1f%%',\n",
    "        shadow=True)"
   ]
  },
  {
   "cell_type": "code",
   "execution_count": 19,
   "metadata": {},
   "outputs": [
    {
     "data": {
      "image/png": "[encoded data removed]",
      "text/plain": [
       "<Figure size 432x288 with 1 Axes>"
      ]
     },
     "metadata": {},
     "output_type": "display_data"
    }
   ],
   "source": [
    "plote = plt.pie(df['quant'], labels=df['Models'],  autopct='%1.1f%%',\n",
    "        shadow=True)"
   ]
  },
  {
   "cell_type": "markdown",
   "metadata": {},
   "source": [
    "## Conclusão"
   ]
  },
  {
   "cell_type": "markdown",
   "metadata": {},
   "source": [
    "As versões de **ANDROID** mais utilizadas são 6 *Android Marshmallow* , 7 *Android Nougat* , 8 *Android Oreo*\n",
    "**Com uma resalva para os 5% que usa o 5 *Android Lollipop* por ter sido uma versão muito cheia de BUGS podem ter muitas bibliotecas descontinuadas**"
   ]
  },
  {
   "cell_type": "markdown",
   "metadata": {},
   "source": [
    "Os aparelhos mais relevantes atualmente para o sistema Genius HOJE são **IPHONES em geral**, **MOTO 'G' e 'E'**, **Samsungs da linha 'J' e 'A'**, **LG linha 'K'**, **Xiaomi linha 'MI'**"
   ]
  },
  {
   "cell_type": "code",
   "execution_count": null,
   "metadata": {},
   "outputs": [],
   "source": []
  }
 ],
 "metadata": {
  "kernelspec": {
   "display_name": "Python 3.8.2 64-bit",
   "language": "python",
   "name": "python38264bit4035cdeec775495587468eb786e1a62f"
  },
  "language_info": {
   "codemirror_mode": {
    "name": "ipython",
    "version": 3
   },
   "file_extension": ".py",
   "mimetype": "text/x-python",
   "name": "python",
   "nbconvert_exporter": "python",
   "pygments_lexer": "ipython3",
   "version": "3.8.3"
  }
 },
 "nbformat": 4,
 "nbformat_minor": 4
}
